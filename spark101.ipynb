{
 "cells": [
  {
   "cell_type": "markdown",
   "id": "c5942365",
   "metadata": {},
   "source": [
    "# Spark Exercises"
   ]
  },
  {
   "cell_type": "code",
   "execution_count": 1,
   "id": "568a57bd",
   "metadata": {},
   "outputs": [
    {
     "name": "stderr",
     "output_type": "stream",
     "text": [
      "WARNING: An illegal reflective access operation has occurred\n",
      "WARNING: Illegal reflective access by org.apache.spark.unsafe.Platform (file:/usr/local/anaconda3/lib/python3.9/site-packages/pyspark/jars/spark-unsafe_2.12-3.2.1.jar) to constructor java.nio.DirectByteBuffer(long,int)\n",
      "WARNING: Please consider reporting this to the maintainers of org.apache.spark.unsafe.Platform\n",
      "WARNING: Use --illegal-access=warn to enable warnings of further illegal reflective access operations\n",
      "WARNING: All illegal access operations will be denied in a future release\n",
      "Using Spark's default log4j profile: org/apache/spark/log4j-defaults.properties\n",
      "Setting default log level to \"WARN\".\n",
      "To adjust logging level use sc.setLogLevel(newLevel). For SparkR, use setLogLevel(newLevel).\n",
      "22/05/24 14:59:01 WARN NativeCodeLoader: Unable to load native-hadoop library for your platform... using builtin-java classes where applicable\n"
     ]
    }
   ],
   "source": [
    "# Get libraries\n",
    "import re\n",
    "import pyspark\n",
    "from pydataset import data\n",
    "spark = pyspark.sql.SparkSession.builder.getOrCreate()\n",
    "from pyspark.sql.functions import *"
   ]
  },
  {
   "cell_type": "markdown",
   "id": "2877189a",
   "metadata": {},
   "source": [
    "### (1). Create a spark data frame that contains your favorite programming languages.\n",
    "\n",
    "- The name of the column should be language\n",
    "- View the schema of the dataframe\n",
    "- Output the shape of the dataframe\n",
    "- Show the first 5 records in the dataframe"
   ]
  },
  {
   "cell_type": "code",
   "execution_count": 2,
   "id": "d11c5635",
   "metadata": {},
   "outputs": [],
   "source": [
    "# Make dictionary\n",
    "\n",
    "data = [{'language': 'python'}, {'language':'Java'}, {'language':'html'}, {'langauge':'sql'},{'language': 'css'}, {'language':'go'}, {'language':'c++'}, {'langauge':'javascript'}]\n"
   ]
  },
  {
   "cell_type": "code",
   "execution_count": 3,
   "id": "8da0edc0",
   "metadata": {},
   "outputs": [],
   "source": [
    "# Create spark context object\n",
    "\n",
    "from pyspark import SparkContext, SparkConf\n",
    "conf = SparkConf().setAppName(\"projectName\").setMaster(\"local[*]\")\n",
    "sc = SparkContext.getOrCreate(conf)"
   ]
  },
  {
   "cell_type": "code",
   "execution_count": 4,
   "id": "09cb8192",
   "metadata": {},
   "outputs": [
    {
     "data": {
      "text/plain": [
       "pyspark.rdd.RDD"
      ]
     },
     "execution_count": 4,
     "metadata": {},
     "output_type": "execute_result"
    }
   ],
   "source": [
    "# Create rdd\n",
    "\n",
    "rdd = sc.parallelize(data)\n",
    "type(rdd)"
   ]
  },
  {
   "cell_type": "code",
   "execution_count": 5,
   "id": "6361e6b0",
   "metadata": {},
   "outputs": [
    {
     "name": "stderr",
     "output_type": "stream",
     "text": [
      "                                                                                \r"
     ]
    },
    {
     "data": {
      "text/plain": [
       "pyspark.sql.dataframe.DataFrame"
      ]
     },
     "execution_count": 5,
     "metadata": {},
     "output_type": "execute_result"
    }
   ],
   "source": [
    "# Convert rdd to DF\n",
    "df = rdd.toDF()\n",
    "type(df)"
   ]
  },
  {
   "cell_type": "code",
   "execution_count": 6,
   "id": "8854e030",
   "metadata": {},
   "outputs": [
    {
     "name": "stdout",
     "output_type": "stream",
     "text": [
      "+--------+\n",
      "|language|\n",
      "+--------+\n",
      "|  python|\n",
      "|    Java|\n",
      "|    html|\n",
      "|    null|\n",
      "|     css|\n",
      "|      go|\n",
      "|     c++|\n",
      "|    null|\n",
      "+--------+\n",
      "\n"
     ]
    }
   ],
   "source": [
    "# Display the DF\n",
    "df.show()"
   ]
  },
  {
   "cell_type": "code",
   "execution_count": 7,
   "id": "aac00d27",
   "metadata": {},
   "outputs": [
    {
     "name": "stdout",
     "output_type": "stream",
     "text": [
      "+--------+\n",
      "|language|\n",
      "+--------+\n",
      "|  python|\n",
      "|    Java|\n",
      "|    html|\n",
      "|        |\n",
      "|     css|\n",
      "|      go|\n",
      "|     c++|\n",
      "|        |\n",
      "+--------+\n",
      "\n"
     ]
    }
   ],
   "source": [
    "# Fill nulls \n",
    "\n",
    "df.na.fill('', subset = 'language').show()"
   ]
  },
  {
   "cell_type": "code",
   "execution_count": 8,
   "id": "6c0bf173",
   "metadata": {},
   "outputs": [
    {
     "name": "stdout",
     "output_type": "stream",
     "text": [
      "+--------+\n",
      "|language|\n",
      "+--------+\n",
      "|  python|\n",
      "|    Java|\n",
      "|    html|\n",
      "|     css|\n",
      "|      go|\n",
      "|     c++|\n",
      "+--------+\n",
      "\n"
     ]
    }
   ],
   "source": [
    "# Drop nulls \n",
    "\n",
    "df.na.drop(subset = 'language').show()\n",
    "\n",
    "# # or (with one column)\n",
    "# df.na.drop().show()\n"
   ]
  },
  {
   "cell_type": "code",
   "execution_count": 9,
   "id": "87138ff4",
   "metadata": {},
   "outputs": [
    {
     "name": "stdout",
     "output_type": "stream",
     "text": [
      "+--------+\n",
      "|language|\n",
      "+--------+\n",
      "|  python|\n",
      "|    Java|\n",
      "|    html|\n",
      "|    null|\n",
      "|     css|\n",
      "+--------+\n",
      "only showing top 5 rows\n",
      "\n"
     ]
    }
   ],
   "source": [
    "# First 5\n",
    "\n",
    "df.show(5)"
   ]
  },
  {
   "cell_type": "code",
   "execution_count": 10,
   "id": "ee3de5a6",
   "metadata": {},
   "outputs": [
    {
     "name": "stdout",
     "output_type": "stream",
     "text": [
      "(8, 1)\n"
     ]
    }
   ],
   "source": [
    "# Shape pf DF\n",
    "print((df.count(), len(df.columns)))"
   ]
  },
  {
   "cell_type": "markdown",
   "id": "68790501",
   "metadata": {},
   "source": [
    "### (2). Load the mpg dataset as a spark dataframe.\n",
    "\n",
    "- Create 1 column of output that contains a message like the one below:\n",
    "        \n",
    "        The 1999 audi a4 has a 4 cylinder engine.\n",
    "- For each vehicle.\n",
    "\n",
    "    - Transform the trans column so that it only contains either manual or auto."
   ]
  },
  {
   "cell_type": "code",
   "execution_count": 11,
   "id": "25c35c59",
   "metadata": {},
   "outputs": [
    {
     "name": "stdout",
     "output_type": "stream",
     "text": [
      "+------------+-----+-----+----+---+----------+---+---+---+---+-------+\n",
      "|manufacturer|model|displ|year|cyl|     trans|drv|cty|hwy| fl|  class|\n",
      "+------------+-----+-----+----+---+----------+---+---+---+---+-------+\n",
      "|        audi|   a4|  1.8|1999|  4|  auto(l5)|  f| 18| 29|  p|compact|\n",
      "|        audi|   a4|  1.8|1999|  4|manual(m5)|  f| 21| 29|  p|compact|\n",
      "|        audi|   a4|  2.0|2008|  4|manual(m6)|  f| 20| 31|  p|compact|\n",
      "|        audi|   a4|  2.0|2008|  4|  auto(av)|  f| 21| 30|  p|compact|\n",
      "|        audi|   a4|  2.8|1999|  6|  auto(l5)|  f| 16| 26|  p|compact|\n",
      "+------------+-----+-----+----+---+----------+---+---+---+---+-------+\n",
      "only showing top 5 rows\n",
      "\n"
     ]
    }
   ],
   "source": [
    "# Import data\n",
    "\n",
    "from pydataset import data\n",
    "mpg = spark.createDataFrame(data('mpg'))\n",
    "mpg.show(5)"
   ]
  },
  {
   "cell_type": "code",
   "execution_count": 12,
   "id": "da4d90c7",
   "metadata": {},
   "outputs": [
    {
     "name": "stdout",
     "output_type": "stream",
     "text": [
      "+------------+-----+-----+----+---+----------+---+---+---+---+-------+----------------------------------------+\n",
      "|manufacturer|model|displ|year|cyl|trans     |drv|cty|hwy|fl |class  |description                             |\n",
      "+------------+-----+-----+----+---+----------+---+---+---+---+-------+----------------------------------------+\n",
      "|audi        |a4   |1.8  |1999|4  |auto(l5)  |f  |18 |29 |p  |compact|The 1999 audi a4 has a 4 cylinder engine|\n",
      "|audi        |a4   |1.8  |1999|4  |manual(m5)|f  |21 |29 |p  |compact|The 1999 audi a4 has a 4 cylinder engine|\n",
      "|audi        |a4   |2.0  |2008|4  |manual(m6)|f  |20 |31 |p  |compact|The 2008 audi a4 has a 4 cylinder engine|\n",
      "|audi        |a4   |2.0  |2008|4  |auto(av)  |f  |21 |30 |p  |compact|The 2008 audi a4 has a 4 cylinder engine|\n",
      "|audi        |a4   |2.8  |1999|6  |auto(l5)  |f  |16 |26 |p  |compact|The 1999 audi a4 has a 6 cylinder engine|\n",
      "+------------+-----+-----+----+---+----------+---+---+---+---+-------+----------------------------------------+\n",
      "only showing top 5 rows\n",
      "\n"
     ]
    }
   ],
   "source": [
    "# Create desctiption col with message (The 1999 audi a4 has a 4 cylinder engine)\n",
    "\n",
    "mpg.select('*', concat(lit('The '), 'year', lit(' '),\\\n",
    "                       'manufacturer', lit(' '), 'model',\\\n",
    "                       lit(' has a '), 'cyl', lit(' cylinder engine'))\\\n",
    "           .alias('description')).show(5, truncate = False)\n"
   ]
  },
  {
   "cell_type": "code",
   "execution_count": 13,
   "id": "8d995790",
   "metadata": {},
   "outputs": [
    {
     "name": "stdout",
     "output_type": "stream",
     "text": [
      "+------------+-----+-----+----+---+----------+---+---+---+---+-------+------------+\n",
      "|manufacturer|model|displ|year|cyl|     trans|drv|cty|hwy| fl|  class|transmission|\n",
      "+------------+-----+-----+----+---+----------+---+---+---+---+-------+------------+\n",
      "|        audi|   a4|  1.8|1999|  4|  auto(l5)|  f| 18| 29|  p|compact|        auto|\n",
      "|        audi|   a4|  1.8|1999|  4|manual(m5)|  f| 21| 29|  p|compact|      manual|\n",
      "|        audi|   a4|  2.0|2008|  4|manual(m6)|  f| 20| 31|  p|compact|      manual|\n",
      "+------------+-----+-----+----+---+----------+---+---+---+---+-------+------------+\n",
      "only showing top 3 rows\n",
      "\n"
     ]
    }
   ],
   "source": [
    "# Get trans col to either manual or auto\n",
    "\n",
    "mpg.select('*', regexp_extract('trans', r'^(.*).{4}', 1).alias('transmission')).show(3)"
   ]
  },
  {
   "cell_type": "code",
   "execution_count": 14,
   "id": "a93f1760",
   "metadata": {},
   "outputs": [
    {
     "name": "stdout",
     "output_type": "stream",
     "text": [
      "+------------+-----+-----+----+---+----------+---+---+---+---+-------+\n",
      "|manufacturer|model|displ|year|cyl|     trans|drv|cty|hwy| fl|  class|\n",
      "+------------+-----+-----+----+---+----------+---+---+---+---+-------+\n",
      "|        audi|   a4|  1.8|1999|  4|  auto(l5)|  f| 18| 29|  p|compact|\n",
      "|        audi|   a4|  1.8|1999|  4|manual(m5)|  f| 21| 29|  p|compact|\n",
      "|        audi|   a4|  2.0|2008|  4|manual(m6)|  f| 20| 31|  p|compact|\n",
      "|        audi|   a4|  2.0|2008|  4|  auto(av)|  f| 21| 30|  p|compact|\n",
      "|        audi|   a4|  2.8|1999|  6|  auto(l5)|  f| 16| 26|  p|compact|\n",
      "+------------+-----+-----+----+---+----------+---+---+---+---+-------+\n",
      "only showing top 5 rows\n",
      "\n"
     ]
    }
   ],
   "source": [
    "mpg.show(5)"
   ]
  },
  {
   "cell_type": "markdown",
   "id": "3d4d5a90",
   "metadata": {},
   "source": [
    "### (3). Load the tips dataset as a spark dataframe.\n",
    "\n",
    "- What percentage of observations are smokers?\n",
    "- Create a column that contains the tip percentage\n",
    "- Calculate the average tip percentage for each combination of sex and smoker."
   ]
  },
  {
   "cell_type": "code",
   "execution_count": 15,
   "id": "7c2eac70",
   "metadata": {},
   "outputs": [
    {
     "name": "stdout",
     "output_type": "stream",
     "text": [
      "+----------+----+------+------+---+------+----+\n",
      "|total_bill| tip|   sex|smoker|day|  time|size|\n",
      "+----------+----+------+------+---+------+----+\n",
      "|     16.99|1.01|Female|    No|Sun|Dinner|   2|\n",
      "|     10.34|1.66|  Male|    No|Sun|Dinner|   3|\n",
      "|     21.01| 3.5|  Male|    No|Sun|Dinner|   3|\n",
      "|     23.68|3.31|  Male|    No|Sun|Dinner|   2|\n",
      "|     24.59|3.61|Female|    No|Sun|Dinner|   4|\n",
      "|     25.29|4.71|  Male|    No|Sun|Dinner|   4|\n",
      "|      8.77| 2.0|  Male|    No|Sun|Dinner|   2|\n",
      "|     26.88|3.12|  Male|    No|Sun|Dinner|   4|\n",
      "|     15.04|1.96|  Male|    No|Sun|Dinner|   2|\n",
      "|     14.78|3.23|  Male|    No|Sun|Dinner|   2|\n",
      "|     10.27|1.71|  Male|    No|Sun|Dinner|   2|\n",
      "|     35.26| 5.0|Female|    No|Sun|Dinner|   4|\n",
      "|     15.42|1.57|  Male|    No|Sun|Dinner|   2|\n",
      "|     18.43| 3.0|  Male|    No|Sun|Dinner|   4|\n",
      "|     14.83|3.02|Female|    No|Sun|Dinner|   2|\n",
      "|     21.58|3.92|  Male|    No|Sun|Dinner|   2|\n",
      "|     10.33|1.67|Female|    No|Sun|Dinner|   3|\n",
      "|     16.29|3.71|  Male|    No|Sun|Dinner|   3|\n",
      "|     16.97| 3.5|Female|    No|Sun|Dinner|   3|\n",
      "|     20.65|3.35|  Male|    No|Sat|Dinner|   3|\n",
      "+----------+----+------+------+---+------+----+\n",
      "only showing top 20 rows\n",
      "\n"
     ]
    }
   ],
   "source": [
    "# Load the dataframe\n",
    "tips = spark.createDataFrame(data('tips'))\n",
    "tips.show()"
   ]
  },
  {
   "cell_type": "markdown",
   "id": "2117d27a",
   "metadata": {},
   "source": [
    "#### Create tip Percent"
   ]
  },
  {
   "cell_type": "code",
   "execution_count": 16,
   "id": "c87aa835",
   "metadata": {},
   "outputs": [
    {
     "name": "stdout",
     "output_type": "stream",
     "text": [
      "+----------+----+------+------+---+------+----+------------------+\n",
      "|total_bill| tip|   sex|smoker|day|  time|size|    tip_percentage|\n",
      "+----------+----+------+------+---+------+----+------------------+\n",
      "|     16.99|1.01|Female|    No|Sun|Dinner|   2|5.9446733372572105|\n",
      "|     10.34|1.66|  Male|    No|Sun|Dinner|   3|16.054158607350097|\n",
      "|     21.01| 3.5|  Male|    No|Sun|Dinner|   3|16.658733936220845|\n",
      "|     23.68|3.31|  Male|    No|Sun|Dinner|   2| 13.97804054054054|\n",
      "|     24.59|3.61|Female|    No|Sun|Dinner|   4|14.680764538430255|\n",
      "+----------+----+------+------+---+------+----+------------------+\n",
      "only showing top 5 rows\n",
      "\n"
     ]
    }
   ],
   "source": [
    "tips.select('*', ((tips.tip / tips.total_bill)*100).alias('tip_percentage')).show(5)"
   ]
  },
  {
   "cell_type": "markdown",
   "id": "99ca592d",
   "metadata": {},
   "source": [
    "> #### Cols using col, expr\n",
    "\n",
    "The __expr__ function is more powerful than __col__. It does everything col does and more. expr returns the same type of column object, but allows us to express manipulations to the column within the string that defines the column."
   ]
  },
  {
   "cell_type": "code",
   "execution_count": 17,
   "id": "a5562214",
   "metadata": {},
   "outputs": [],
   "source": [
    "# Import req libraries\n",
    "from pyspark.sql.functions import col, expr"
   ]
  },
  {
   "cell_type": "code",
   "execution_count": 18,
   "id": "03b47f36",
   "metadata": {},
   "outputs": [
    {
     "name": "stdout",
     "output_type": "stream",
     "text": [
      "+----------+----+------+------+---+------+----+------------------+\n",
      "|total_bill| tip|   sex|smoker|day|  time|size|       tip_percent|\n",
      "+----------+----+------+------+---+------+----+------------------+\n",
      "|     16.99|1.01|Female|    No|Sun|Dinner|   2|5.9446733372572105|\n",
      "|     10.34|1.66|  Male|    No|Sun|Dinner|   3|16.054158607350097|\n",
      "|     21.01| 3.5|  Male|    No|Sun|Dinner|   3|16.658733936220845|\n",
      "|     23.68|3.31|  Male|    No|Sun|Dinner|   2| 13.97804054054054|\n",
      "|     24.59|3.61|Female|    No|Sun|Dinner|   4|14.680764538430255|\n",
      "|     25.29|4.71|  Male|    No|Sun|Dinner|   4| 18.62396204033215|\n",
      "|      8.77| 2.0|  Male|    No|Sun|Dinner|   2| 22.80501710376283|\n",
      "|     26.88|3.12|  Male|    No|Sun|Dinner|   4|11.607142857142858|\n",
      "|     15.04|1.96|  Male|    No|Sun|Dinner|   2|13.031914893617023|\n",
      "|     14.78|3.23|  Male|    No|Sun|Dinner|   2|21.853856562922868|\n",
      "|     10.27|1.71|  Male|    No|Sun|Dinner|   2| 16.65043816942551|\n",
      "|     35.26| 5.0|Female|    No|Sun|Dinner|   4|14.180374361883155|\n",
      "|     15.42|1.57|  Male|    No|Sun|Dinner|   2|10.181582360570687|\n",
      "|     18.43| 3.0|  Male|    No|Sun|Dinner|   4|16.277807921866522|\n",
      "|     14.83|3.02|Female|    No|Sun|Dinner|   2|20.364126770060686|\n",
      "|     21.58|3.92|  Male|    No|Sun|Dinner|   2|18.164967562557923|\n",
      "|     10.33|1.67|Female|    No|Sun|Dinner|   3| 16.16650532429816|\n",
      "|     16.29|3.71|  Male|    No|Sun|Dinner|   3|22.774708410067525|\n",
      "|     16.97| 3.5|Female|    No|Sun|Dinner|   3|20.624631703005306|\n",
      "|     20.65|3.35|  Male|    No|Sat|Dinner|   3|16.222760290556902|\n",
      "+----------+----+------+------+---+------+----+------------------+\n",
      "only showing top 20 rows\n",
      "\n"
     ]
    }
   ],
   "source": [
    "# using col\n",
    "\n",
    "tip_percent = (col('tip') / col('total_bill') * 100)\n",
    "\n",
    "tips.select('*', tip_percent.alias('tip_percent')).show()"
   ]
  },
  {
   "cell_type": "code",
   "execution_count": 19,
   "id": "34c79d8e",
   "metadata": {},
   "outputs": [
    {
     "name": "stdout",
     "output_type": "stream",
     "text": [
      "+----------+----+------+------+---+------+----+\n",
      "|total_bill| tip|   sex|smoker|day|  time|size|\n",
      "+----------+----+------+------+---+------+----+\n",
      "|     16.99|1.01|Female|    No|Sun|Dinner|   2|\n",
      "|     10.34|1.66|  Male|    No|Sun|Dinner|   3|\n",
      "|     21.01| 3.5|  Male|    No|Sun|Dinner|   3|\n",
      "|     23.68|3.31|  Male|    No|Sun|Dinner|   2|\n",
      "|     24.59|3.61|Female|    No|Sun|Dinner|   4|\n",
      "|     25.29|4.71|  Male|    No|Sun|Dinner|   4|\n",
      "|      8.77| 2.0|  Male|    No|Sun|Dinner|   2|\n",
      "|     26.88|3.12|  Male|    No|Sun|Dinner|   4|\n",
      "|     15.04|1.96|  Male|    No|Sun|Dinner|   2|\n",
      "|     14.78|3.23|  Male|    No|Sun|Dinner|   2|\n",
      "|     10.27|1.71|  Male|    No|Sun|Dinner|   2|\n",
      "|     35.26| 5.0|Female|    No|Sun|Dinner|   4|\n",
      "|     15.42|1.57|  Male|    No|Sun|Dinner|   2|\n",
      "|     18.43| 3.0|  Male|    No|Sun|Dinner|   4|\n",
      "|     14.83|3.02|Female|    No|Sun|Dinner|   2|\n",
      "|     21.58|3.92|  Male|    No|Sun|Dinner|   2|\n",
      "|     10.33|1.67|Female|    No|Sun|Dinner|   3|\n",
      "|     16.29|3.71|  Male|    No|Sun|Dinner|   3|\n",
      "|     16.97| 3.5|Female|    No|Sun|Dinner|   3|\n",
      "|     20.65|3.35|  Male|    No|Sat|Dinner|   3|\n",
      "+----------+----+------+------+---+------+----+\n",
      "only showing top 20 rows\n",
      "\n"
     ]
    }
   ],
   "source": [
    "# Using expr\n",
    "tips.show()"
   ]
  },
  {
   "cell_type": "code",
   "execution_count": 20,
   "id": "fc258130",
   "metadata": {},
   "outputs": [
    {
     "name": "stdout",
     "output_type": "stream",
     "text": [
      "+------+------+------------------+\n",
      "|   sex|smoker|          avg(tip)|\n",
      "+------+------+------------------+\n",
      "|  Male|    No|3.1134020618556706|\n",
      "|Female|    No| 2.773518518518518|\n",
      "|  Male|   Yes| 3.051166666666666|\n",
      "|Female|   Yes| 2.931515151515151|\n",
      "+------+------+------------------+\n",
      "\n"
     ]
    }
   ],
   "source": [
    "# Average tip by sex and smoker\n",
    "\n",
    "tip_percent = (col('tip') / col('total_bill') * 100)\n",
    "\n",
    "tp= tips.select('*', tip_percent.alias('tip_percent'))\n",
    "tp.groupBy('sex', 'smoker').agg(mean('tip')).show()"
   ]
  },
  {
   "cell_type": "markdown",
   "id": "00c18a53",
   "metadata": {},
   "source": [
    "### (4). Use the seattle weather dataset referenced in the lesson to answer the questions below.\n",
    "\n",
    "- Convert the temperatures to fahrenheit.\n",
    "- Which month has the most rain, on average?\n",
    "- Which year was the windiest?\n",
    "- What is the most frequent type of weather in January?\n",
    "- What is the average high and low temperature on sunny days in July in 2013 and 2014?\n",
    "- What percentage of days were rainy in q3 of 2015?\n",
    "- For each year, find what percentage of days it rained (had non-zero precipitation)."
   ]
  },
  {
   "cell_type": "code",
   "execution_count": 21,
   "id": "5a89050b",
   "metadata": {},
   "outputs": [
    {
     "name": "stdout",
     "output_type": "stream",
     "text": [
      "+----------+-------------+--------+--------+----+-------+\n",
      "|      date|precipitation|temp_max|temp_min|wind|weather|\n",
      "+----------+-------------+--------+--------+----+-------+\n",
      "|2012-01-01|          0.0|    12.8|     5.0| 4.7|drizzle|\n",
      "|2012-01-02|         10.9|    10.6|     2.8| 4.5|   rain|\n",
      "|2012-01-03|          0.8|    11.7|     7.2| 2.3|   rain|\n",
      "|2012-01-04|         20.3|    12.2|     5.6| 4.7|   rain|\n",
      "|2012-01-05|          1.3|     8.9|     2.8| 6.1|   rain|\n",
      "|2012-01-06|          2.5|     4.4|     2.2| 2.2|   rain|\n",
      "+----------+-------------+--------+--------+----+-------+\n",
      "only showing top 6 rows\n",
      "\n"
     ]
    }
   ],
   "source": [
    "# Get Seatle weather set\n",
    "from vega_datasets import data\n",
    "\n",
    "weather = data.seattle_weather().assign(date = lambda df: df.date.astype(str))\n",
    "weather = spark.createDataFrame(weather)\n",
    "weather.show(6)"
   ]
  },
  {
   "cell_type": "markdown",
   "id": "a89e4dee",
   "metadata": {},
   "source": [
    "###    Conversion Formula\n",
    "\n",
    "-    (0°C × 9/5) + 32 = 32°F\n",
    "    \n",
    "#### Convert the temperatures to fahrenheit.\n"
   ]
  },
  {
   "cell_type": "code",
   "execution_count": 22,
   "id": "eae4ad92",
   "metadata": {
    "scrolled": false
   },
   "outputs": [
    {
     "name": "stdout",
     "output_type": "stream",
     "text": [
      "+----------+-------------+--------+--------+----+-------+--------------------+--------------------+\n",
      "|      date|precipitation|temp_max|temp_min|wind|weather|temp_max_farenheight|temp_min_farenheight|\n",
      "+----------+-------------+--------+--------+----+-------+--------------------+--------------------+\n",
      "|2012-01-01|          0.0|    12.8|     5.0| 4.7|drizzle|               55.04|                41.0|\n",
      "|2012-01-02|         10.9|    10.6|     2.8| 4.5|   rain|               51.08|               37.04|\n",
      "|2012-01-03|          0.8|    11.7|     7.2| 2.3|   rain|               53.06|               44.96|\n",
      "|2012-01-04|         20.3|    12.2|     5.6| 4.7|   rain|               53.96|               42.08|\n",
      "|2012-01-05|          1.3|     8.9|     2.8| 6.1|   rain|               48.02|               37.04|\n",
      "|2012-01-06|          2.5|     4.4|     2.2| 2.2|   rain|               39.92|               35.96|\n",
      "+----------+-------------+--------+--------+----+-------+--------------------+--------------------+\n",
      "only showing top 6 rows\n",
      "\n"
     ]
    }
   ],
   "source": [
    "# Temperatures to fahrenheit\n",
    "\n",
    "weather.select('*', \\\n",
    "               expr('ROUND((temp_max * (9/5) + 32), 2) AS temp_max_farenheight'), \\\n",
    "               expr('ROUND((temp_min * (9/5) + 32), 2) AS temp_min_farenheight')).show(6)"
   ]
  },
  {
   "cell_type": "code",
   "execution_count": 23,
   "id": "c5240abe",
   "metadata": {},
   "outputs": [
    {
     "name": "stdout",
     "output_type": "stream",
     "text": [
      "+----------+-------------+--------+--------+----+-------+\n",
      "|      date|precipitation|temp_max|temp_min|wind|weather|\n",
      "+----------+-------------+--------+--------+----+-------+\n",
      "|2012-01-01|          0.0|   55.04|    41.0| 4.7|drizzle|\n",
      "|2012-01-02|         10.9|   51.08|   37.04| 4.5|   rain|\n",
      "|2012-01-03|          0.8|   53.06|   44.96| 2.3|   rain|\n",
      "|2012-01-04|         20.3|   53.96|   42.08| 4.7|   rain|\n",
      "|2012-01-05|          1.3|   48.02|   37.04| 6.1|   rain|\n",
      "+----------+-------------+--------+--------+----+-------+\n",
      "only showing top 5 rows\n",
      "\n"
     ]
    }
   ],
   "source": [
    "# Alternative way \n",
    "weather = weather.withColumn(\n",
    "'temp_max', (col('temp_max') * 9 / 5 + 32)\n",
    ").withColumn('temp_min', (col('temp_min') * 9/5 + 32))\n",
    "weather.show(5)"
   ]
  },
  {
   "cell_type": "markdown",
   "id": "86282f0e",
   "metadata": {},
   "source": [
    "#### Temperatures to fahrenheit (alternative way with manipulating expr)"
   ]
  },
  {
   "cell_type": "code",
   "execution_count": 24,
   "id": "e2c9fd2b",
   "metadata": {},
   "outputs": [
    {
     "name": "stdout",
     "output_type": "stream",
     "text": [
      "+----------+--------+--------+--------------------+--------------------+\n",
      "|      date|temp_max|temp_min|temp_max_farenheight|temp_min_farenheight|\n",
      "+----------+--------+--------+--------------------+--------------------+\n",
      "|2012-01-01|   55.04|    41.0|              131.07|               105.8|\n",
      "|2012-01-02|   51.08|   37.04|              123.94|               98.67|\n",
      "|2012-01-03|   53.06|   44.96|              127.51|              112.93|\n",
      "|2012-01-04|   53.96|   42.08|              129.13|              107.74|\n",
      "|2012-01-05|   48.02|   37.04|              118.44|               98.67|\n",
      "|2012-01-06|   39.92|   35.96|              103.86|               96.73|\n",
      "+----------+--------+--------+--------------------+--------------------+\n",
      "only showing top 6 rows\n",
      "\n"
     ]
    }
   ],
   "source": [
    "# Temperatures to fahrenheit (alternative way with manipulating expr)\n",
    "\n",
    "weather.selectExpr('date','temp_max', 'temp_min',\\\n",
    "               ('ROUND((temp_max * (9/5) + 32), 2) AS temp_max_farenheight'), \\\n",
    "               ('ROUND((temp_min * (9/5) + 32), 2) AS temp_min_farenheight')).show(6)"
   ]
  },
  {
   "cell_type": "markdown",
   "id": "fc48c425",
   "metadata": {},
   "source": [
    "#### Which month has the most rain, on average?\n"
   ]
  },
  {
   "cell_type": "code",
   "execution_count": 25,
   "id": "0faa2e24",
   "metadata": {},
   "outputs": [
    {
     "name": "stdout",
     "output_type": "stream",
     "text": [
      "+----------+-------------+--------+--------+----+-------+----+---+\n",
      "|      date|precipitation|temp_max|temp_min|wind|weather|year|day|\n",
      "+----------+-------------+--------+--------+----+-------+----+---+\n",
      "|2012-01-01|          0.0|   55.04|    41.0| 4.7|drizzle|2012| 01|\n",
      "|2012-01-02|         10.9|   51.08|   37.04| 4.5|   rain|2012| 02|\n",
      "|2012-01-03|          0.8|   53.06|   44.96| 2.3|   rain|2012| 03|\n",
      "|2012-01-04|         20.3|   53.96|   42.08| 4.7|   rain|2012| 04|\n",
      "|2012-01-05|          1.3|   48.02|   37.04| 6.1|   rain|2012| 05|\n",
      "|2012-01-06|          2.5|   39.92|   35.96| 2.2|   rain|2012| 06|\n",
      "+----------+-------------+--------+--------+----+-------+----+---+\n",
      "only showing top 6 rows\n",
      "\n"
     ]
    }
   ],
   "source": [
    "# Which month has the most rain, on average?\n",
    "weather.select('*',\\\n",
    "               regexp_extract('date', r'^(.\\d{3,5})', 1).alias('year'),\\\n",
    "#                regexp_extract('date', r'(\\d\\d)\\-', 1).alias('month'),\\\n",
    "               regexp_extract('date', r'(\\d\\d$)', 1).alias('day'),\n",
    "\n",
    "              ).show(6)"
   ]
  },
  {
   "cell_type": "code",
   "execution_count": 26,
   "id": "85684213",
   "metadata": {},
   "outputs": [
    {
     "data": {
      "text/plain": [
       "Row(month=11, avg_monthly_rain=160.625)"
      ]
     },
     "execution_count": 26,
     "metadata": {},
     "output_type": "execute_result"
    }
   ],
   "source": [
    "# Correct Example (most rain on average)\n",
    "\n",
    "row = (\n",
    "    weather.withColumn(\"month\", month(\"date\"))\n",
    "    .withColumn(\"year\", year(\"date\"))\n",
    "    .groupBy(\"month\", \"year\")\n",
    "    .agg(sum(\"precipitation\").alias(\"total_monthly_precipitation\"))\n",
    "    .groupBy(\"month\")\n",
    "    .agg(mean(\"total_monthly_precipitation\").alias(\"avg_monthly_rain\"))\n",
    "    .sort(col(\"avg_monthly_rain\").desc())\n",
    "    .first()\n",
    ")\n",
    "row"
   ]
  },
  {
   "cell_type": "markdown",
   "id": "108b4a56",
   "metadata": {},
   "source": [
    "#### Which year was the windiest?"
   ]
  },
  {
   "cell_type": "code",
   "execution_count": 27,
   "id": "c51a0928",
   "metadata": {},
   "outputs": [
    {
     "data": {
      "text/plain": [
       "[Row(year=2012, total_winds=1244.6999999999998),\n",
       " Row(year=2014, total_winds=1236.5),\n",
       " Row(year=2015, total_winds=1153.3),\n",
       " Row(year=2013, total_winds=1100.8000000000002)]"
      ]
     },
     "execution_count": 27,
     "metadata": {},
     "output_type": "execute_result"
    }
   ],
   "source": [
    "(\n",
    "    weather.withColumn(\"year\", year(\"date\"))\n",
    "    .groupBy(\"year\")\n",
    "    .agg(sum(\"wind\").alias(\"total_winds\"))\n",
    "    .sort(col(\"total_winds\").desc())\n",
    "    .head(5)\n",
    ")"
   ]
  },
  {
   "cell_type": "markdown",
   "id": "e1844267",
   "metadata": {},
   "source": [
    "#### What is the most frequent type of weather in January?"
   ]
  },
  {
   "cell_type": "code",
   "execution_count": 28,
   "id": "bef98ea8",
   "metadata": {},
   "outputs": [
    {
     "name": "stdout",
     "output_type": "stream",
     "text": [
      "+-------+-----+\n",
      "|Weather|count|\n",
      "+-------+-----+\n",
      "|    fog|   38|\n",
      "|   rain|   35|\n",
      "|    sun|   33|\n",
      "|drizzle|   10|\n",
      "|   snow|    8|\n",
      "+-------+-----+\n",
      "\n"
     ]
    }
   ],
   "source": [
    "# What is the most frequent type of weather in January?\n",
    "\n",
    "(weather.withColumn('month', month('date'))\n",
    " .filter(col('month') == 1)\n",
    " .groupBy('Weather')\n",
    " .count()\n",
    " .sort(col('count').desc())\n",
    " .show()\n",
    ")"
   ]
  },
  {
   "cell_type": "code",
   "execution_count": 29,
   "id": "601f5052",
   "metadata": {},
   "outputs": [
    {
     "name": "stdout",
     "output_type": "stream",
     "text": [
      "+-------+-----+\n",
      "|weather|count|\n",
      "+-------+-----+\n",
      "|drizzle|   54|\n",
      "|   rain|  259|\n",
      "|    sun|  714|\n",
      "|   snow|   23|\n",
      "|    fog|  411|\n",
      "+-------+-----+\n",
      "\n"
     ]
    }
   ],
   "source": [
    "# Group By\n",
    "weather.groupBy('weather').count().show()"
   ]
  },
  {
   "cell_type": "markdown",
   "id": "75cd9601",
   "metadata": {},
   "source": [
    "#### What is the average high and low temperature on sunny days in July in 2013 and 2014?"
   ]
  },
  {
   "cell_type": "code",
   "execution_count": 30,
   "id": "c8dbecee",
   "metadata": {},
   "outputs": [
    {
     "name": "stdout",
     "output_type": "stream",
     "text": [
      "+-----------------+-----------------+\n",
      "|average_high_temp| average_low_temp|\n",
      "+-----------------+-----------------+\n",
      "|80.29192307692308|57.52884615384615|\n",
      "+-----------------+-----------------+\n",
      "\n"
     ]
    }
   ],
   "source": [
    "(\n",
    "    weather.filter(month(\"date\") == 7)\n",
    "    .filter(year(\"date\") > 2012)\n",
    "    .filter(year(\"date\") < 2015)\n",
    "    .filter(col(\"weather\") == lit(\"sun\"))\n",
    "    .agg(\n",
    "        avg(\"temp_max\").alias(\"average_high_temp\"),\n",
    "        avg(\"temp_min\").alias(\"average_low_temp\"),\n",
    "    )\n",
    "    .show()\n",
    ")"
   ]
  },
  {
   "cell_type": "markdown",
   "id": "a224915d",
   "metadata": {},
   "source": [
    "#### What percentage of days were rainy in q3 of 2015?\n"
   ]
  },
  {
   "cell_type": "code",
   "execution_count": 31,
   "id": "9defe543",
   "metadata": {},
   "outputs": [
    {
     "name": "stdout",
     "output_type": "stream",
     "text": [
      "+--------------------+\n",
      "|           avg(rain)|\n",
      "+--------------------+\n",
      "|0.021739130434782608|\n",
      "+--------------------+\n",
      "\n"
     ]
    }
   ],
   "source": [
    "# What percentage of days were rainy in q3 of 2015?\n",
    "\n",
    "# in pandas -- (df.weather == \"rain\").mean()\n",
    "# measure a rainy day by weather == rain\n",
    "(\n",
    "    weather.filter(year(\"date\") == 2015)\n",
    "    .filter(quarter(\"date\") == 3)\n",
    "    .select(when(col(\"weather\") == \"rain\", 1).otherwise(0).alias(\"rain\"))\n",
    "    .agg(mean(\"rain\"))\n",
    "    .show()\n",
    ")"
   ]
  },
  {
   "cell_type": "markdown",
   "id": "61138b83",
   "metadata": {},
   "source": [
    "#### For each year, find what percentage of days it rained (had non-zero precipitation)."
   ]
  },
  {
   "cell_type": "code",
   "execution_count": 32,
   "id": "fef568dc",
   "metadata": {},
   "outputs": [
    {
     "name": "stdout",
     "output_type": "stream",
     "text": [
      "+----+-------------------+\n",
      "|year|      avg(did_rain)|\n",
      "+----+-------------------+\n",
      "|2012|0.48360655737704916|\n",
      "|2013|0.41643835616438357|\n",
      "|2014|  0.410958904109589|\n",
      "|2015|0.39452054794520547|\n",
      "+----+-------------------+\n",
      "\n"
     ]
    }
   ],
   "source": [
    "(\n",
    "weather.withColumn('year', year('date'))\n",
    "    .select(when(col('precipitation') > 0, 1).otherwise(0).alias('did_rain'), 'year')\n",
    "    .groupBy('year')\n",
    "    .agg(mean('did_rain'))\n",
    "    .show()\n",
    ")"
   ]
  }
 ],
 "metadata": {
  "kernelspec": {
   "display_name": "Python 3 (ipykernel)",
   "language": "python",
   "name": "python3"
  },
  "language_info": {
   "codemirror_mode": {
    "name": "ipython",
    "version": 3
   },
   "file_extension": ".py",
   "mimetype": "text/x-python",
   "name": "python",
   "nbconvert_exporter": "python",
   "pygments_lexer": "ipython3",
   "version": "3.9.7"
  }
 },
 "nbformat": 4,
 "nbformat_minor": 5
}
